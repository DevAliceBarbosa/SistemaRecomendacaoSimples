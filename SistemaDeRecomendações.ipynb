{
 "cells": [
  {
   "cell_type": "markdown",
   "id": "ac7ff2c1-88cb-4851-8382-81404ddf18ad",
   "metadata": {},
   "source": [
    "# Sistema de recomendação pelo método de filtragem colaborativa"
   ]
  },
  {
   "cell_type": "markdown",
   "id": "b165b7e5-418b-4ec0-b6ed-c3362f030b18",
   "metadata": {},
   "source": [
    "#### Importando as bibliotecas necessárias e o lendo o arquivo CSV"
   ]
  },
  {
   "cell_type": "code",
   "execution_count": 32,
   "id": "599a1053-e274-489e-98a5-415adc46fd30",
   "metadata": {},
   "outputs": [],
   "source": [
    "import pandas as pd\n",
    "from sklearn.metrics.pairwise import cosine_similarity\n",
    "from sklearn.preprocessing import StandardScaler\n",
    "from sklearn.feature_extraction.text import TfidfVectorizer"
   ]
  },
  {
   "cell_type": "code",
   "execution_count": 3,
   "id": "a24fc973-4446-45fb-9239-cfd48e85eea0",
   "metadata": {},
   "outputs": [
    {
     "data": {
      "text/html": [
       "<div>\n",
       "<style scoped>\n",
       "    .dataframe tbody tr th:only-of-type {\n",
       "        vertical-align: middle;\n",
       "    }\n",
       "\n",
       "    .dataframe tbody tr th {\n",
       "        vertical-align: top;\n",
       "    }\n",
       "\n",
       "    .dataframe thead th {\n",
       "        text-align: right;\n",
       "    }\n",
       "</style>\n",
       "<table border=\"1\" class=\"dataframe\">\n",
       "  <thead>\n",
       "    <tr style=\"text-align: right;\">\n",
       "      <th></th>\n",
       "      <th>InvoiceNo</th>\n",
       "      <th>StockCode</th>\n",
       "      <th>Description</th>\n",
       "      <th>Quantity</th>\n",
       "      <th>InvoiceDate</th>\n",
       "      <th>UnitPrice</th>\n",
       "      <th>CustomerID</th>\n",
       "      <th>Country</th>\n",
       "    </tr>\n",
       "  </thead>\n",
       "  <tbody>\n",
       "    <tr>\n",
       "      <th>0</th>\n",
       "      <td>536365</td>\n",
       "      <td>85123A</td>\n",
       "      <td>WHITE HANGING HEART T-LIGHT HOLDER</td>\n",
       "      <td>6</td>\n",
       "      <td>12/1/2010 8:26</td>\n",
       "      <td>2.55</td>\n",
       "      <td>17850.0</td>\n",
       "      <td>United Kingdom</td>\n",
       "    </tr>\n",
       "    <tr>\n",
       "      <th>1</th>\n",
       "      <td>536365</td>\n",
       "      <td>71053</td>\n",
       "      <td>WHITE METAL LANTERN</td>\n",
       "      <td>6</td>\n",
       "      <td>12/1/2010 8:26</td>\n",
       "      <td>3.39</td>\n",
       "      <td>17850.0</td>\n",
       "      <td>United Kingdom</td>\n",
       "    </tr>\n",
       "    <tr>\n",
       "      <th>2</th>\n",
       "      <td>536365</td>\n",
       "      <td>84406B</td>\n",
       "      <td>CREAM CUPID HEARTS COAT HANGER</td>\n",
       "      <td>8</td>\n",
       "      <td>12/1/2010 8:26</td>\n",
       "      <td>2.75</td>\n",
       "      <td>17850.0</td>\n",
       "      <td>United Kingdom</td>\n",
       "    </tr>\n",
       "    <tr>\n",
       "      <th>3</th>\n",
       "      <td>536365</td>\n",
       "      <td>84029G</td>\n",
       "      <td>KNITTED UNION FLAG HOT WATER BOTTLE</td>\n",
       "      <td>6</td>\n",
       "      <td>12/1/2010 8:26</td>\n",
       "      <td>3.39</td>\n",
       "      <td>17850.0</td>\n",
       "      <td>United Kingdom</td>\n",
       "    </tr>\n",
       "    <tr>\n",
       "      <th>4</th>\n",
       "      <td>536365</td>\n",
       "      <td>84029E</td>\n",
       "      <td>RED WOOLLY HOTTIE WHITE HEART.</td>\n",
       "      <td>6</td>\n",
       "      <td>12/1/2010 8:26</td>\n",
       "      <td>3.39</td>\n",
       "      <td>17850.0</td>\n",
       "      <td>United Kingdom</td>\n",
       "    </tr>\n",
       "  </tbody>\n",
       "</table>\n",
       "</div>"
      ],
      "text/plain": [
       "  InvoiceNo StockCode                          Description  Quantity  \\\n",
       "0    536365    85123A   WHITE HANGING HEART T-LIGHT HOLDER         6   \n",
       "1    536365     71053                  WHITE METAL LANTERN         6   \n",
       "2    536365    84406B       CREAM CUPID HEARTS COAT HANGER         8   \n",
       "3    536365    84029G  KNITTED UNION FLAG HOT WATER BOTTLE         6   \n",
       "4    536365    84029E       RED WOOLLY HOTTIE WHITE HEART.         6   \n",
       "\n",
       "      InvoiceDate  UnitPrice  CustomerID         Country  \n",
       "0  12/1/2010 8:26       2.55     17850.0  United Kingdom  \n",
       "1  12/1/2010 8:26       3.39     17850.0  United Kingdom  \n",
       "2  12/1/2010 8:26       2.75     17850.0  United Kingdom  \n",
       "3  12/1/2010 8:26       3.39     17850.0  United Kingdom  \n",
       "4  12/1/2010 8:26       3.39     17850.0  United Kingdom  "
      ]
     },
     "execution_count": 3,
     "metadata": {},
     "output_type": "execute_result"
    }
   ],
   "source": [
    "arquivo = pd.read_csv('archive/OnlineRetail.csv', encoding='ISO-8859-1')\n",
    "\n",
    "arquivo.head()"
   ]
  },
  {
   "cell_type": "markdown",
   "id": "eca84e52-7bc8-48c1-b5cf-13846fee2cc1",
   "metadata": {},
   "source": [
    "#### Contando a quantidade de nulos por coluna"
   ]
  },
  {
   "cell_type": "code",
   "execution_count": 4,
   "id": "17a4b990-d43e-4818-8089-d86f03bfd514",
   "metadata": {},
   "outputs": [],
   "source": [
    "quantidadeNulos = arquivo.isnull().sum()"
   ]
  },
  {
   "cell_type": "code",
   "execution_count": 5,
   "id": "9c580bd1-a13f-4a50-862e-6e9d0bb723c6",
   "metadata": {},
   "outputs": [
    {
     "name": "stdout",
     "output_type": "stream",
     "text": [
      "InvoiceNo           0\n",
      "StockCode           0\n",
      "Description      1454\n",
      "Quantity            0\n",
      "InvoiceDate         0\n",
      "UnitPrice           0\n",
      "CustomerID     135080\n",
      "Country             0\n",
      "dtype: int64\n"
     ]
    }
   ],
   "source": [
    "print(quantidadeNulos)"
   ]
  },
  {
   "cell_type": "markdown",
   "id": "df3202db-2e55-40aa-af19-e40547adde3b",
   "metadata": {},
   "source": [
    "#### Apagando os valores nulos no arquivo original das colunas que apresentaram valores nulos e para considerar apenas operação de compra"
   ]
  },
  {
   "cell_type": "code",
   "execution_count": 8,
   "id": "529134a1-4bcb-4f0a-b35e-c79028e020ff",
   "metadata": {},
   "outputs": [],
   "source": [
    "arquivo.dropna(subset=['CustomerID', 'Description'], inplace=True)"
   ]
  },
  {
   "cell_type": "code",
   "execution_count": 9,
   "id": "3f79c601-ce9f-451e-a267-5187626bfd76",
   "metadata": {},
   "outputs": [
    {
     "name": "stdout",
     "output_type": "stream",
     "text": [
      "InvoiceNo      0\n",
      "StockCode      0\n",
      "Description    0\n",
      "Quantity       0\n",
      "InvoiceDate    0\n",
      "UnitPrice      0\n",
      "CustomerID     0\n",
      "Country        0\n",
      "dtype: int64\n"
     ]
    }
   ],
   "source": [
    "quantidadeNulos = arquivo.isnull().sum()\n",
    "print(quantidadeNulos)"
   ]
  },
  {
   "cell_type": "code",
   "execution_count": 10,
   "id": "a3d14ea9-af53-42f5-8ba6-6c398c1d6b2a",
   "metadata": {},
   "outputs": [],
   "source": [
    "arquivo = arquivo[arquivo['Quantity'] > 0]  "
   ]
  },
  {
   "cell_type": "markdown",
   "id": "22c79255-2089-4056-ac60-8dcf7cad4584",
   "metadata": {},
   "source": [
    "#### Padroniza os nomes da coluna de descrição"
   ]
  },
  {
   "cell_type": "code",
   "execution_count": 11,
   "id": "c59b5ad2-9b3a-4df6-9e4d-2db4fd9628bf",
   "metadata": {},
   "outputs": [],
   "source": [
    "arquivo['Description'] = arquivo['Description'].str.strip().str.upper()\n"
   ]
  },
  {
   "cell_type": "code",
   "execution_count": 12,
   "id": "d0c783c3-b0cd-4db6-9b72-3131d5da5b94",
   "metadata": {},
   "outputs": [
    {
     "data": {
      "text/html": [
       "<div>\n",
       "<style scoped>\n",
       "    .dataframe tbody tr th:only-of-type {\n",
       "        vertical-align: middle;\n",
       "    }\n",
       "\n",
       "    .dataframe tbody tr th {\n",
       "        vertical-align: top;\n",
       "    }\n",
       "\n",
       "    .dataframe thead th {\n",
       "        text-align: right;\n",
       "    }\n",
       "</style>\n",
       "<table border=\"1\" class=\"dataframe\">\n",
       "  <thead>\n",
       "    <tr style=\"text-align: right;\">\n",
       "      <th></th>\n",
       "      <th>InvoiceNo</th>\n",
       "      <th>StockCode</th>\n",
       "      <th>Description</th>\n",
       "      <th>Quantity</th>\n",
       "      <th>InvoiceDate</th>\n",
       "      <th>UnitPrice</th>\n",
       "      <th>CustomerID</th>\n",
       "      <th>Country</th>\n",
       "    </tr>\n",
       "  </thead>\n",
       "  <tbody>\n",
       "    <tr>\n",
       "      <th>0</th>\n",
       "      <td>536365</td>\n",
       "      <td>85123A</td>\n",
       "      <td>WHITE HANGING HEART T-LIGHT HOLDER</td>\n",
       "      <td>6</td>\n",
       "      <td>12/1/2010 8:26</td>\n",
       "      <td>2.55</td>\n",
       "      <td>17850.0</td>\n",
       "      <td>United Kingdom</td>\n",
       "    </tr>\n",
       "    <tr>\n",
       "      <th>1</th>\n",
       "      <td>536365</td>\n",
       "      <td>71053</td>\n",
       "      <td>WHITE METAL LANTERN</td>\n",
       "      <td>6</td>\n",
       "      <td>12/1/2010 8:26</td>\n",
       "      <td>3.39</td>\n",
       "      <td>17850.0</td>\n",
       "      <td>United Kingdom</td>\n",
       "    </tr>\n",
       "    <tr>\n",
       "      <th>2</th>\n",
       "      <td>536365</td>\n",
       "      <td>84406B</td>\n",
       "      <td>CREAM CUPID HEARTS COAT HANGER</td>\n",
       "      <td>8</td>\n",
       "      <td>12/1/2010 8:26</td>\n",
       "      <td>2.75</td>\n",
       "      <td>17850.0</td>\n",
       "      <td>United Kingdom</td>\n",
       "    </tr>\n",
       "    <tr>\n",
       "      <th>3</th>\n",
       "      <td>536365</td>\n",
       "      <td>84029G</td>\n",
       "      <td>KNITTED UNION FLAG HOT WATER BOTTLE</td>\n",
       "      <td>6</td>\n",
       "      <td>12/1/2010 8:26</td>\n",
       "      <td>3.39</td>\n",
       "      <td>17850.0</td>\n",
       "      <td>United Kingdom</td>\n",
       "    </tr>\n",
       "    <tr>\n",
       "      <th>4</th>\n",
       "      <td>536365</td>\n",
       "      <td>84029E</td>\n",
       "      <td>RED WOOLLY HOTTIE WHITE HEART.</td>\n",
       "      <td>6</td>\n",
       "      <td>12/1/2010 8:26</td>\n",
       "      <td>3.39</td>\n",
       "      <td>17850.0</td>\n",
       "      <td>United Kingdom</td>\n",
       "    </tr>\n",
       "  </tbody>\n",
       "</table>\n",
       "</div>"
      ],
      "text/plain": [
       "  InvoiceNo StockCode                          Description  Quantity  \\\n",
       "0    536365    85123A   WHITE HANGING HEART T-LIGHT HOLDER         6   \n",
       "1    536365     71053                  WHITE METAL LANTERN         6   \n",
       "2    536365    84406B       CREAM CUPID HEARTS COAT HANGER         8   \n",
       "3    536365    84029G  KNITTED UNION FLAG HOT WATER BOTTLE         6   \n",
       "4    536365    84029E       RED WOOLLY HOTTIE WHITE HEART.         6   \n",
       "\n",
       "      InvoiceDate  UnitPrice  CustomerID         Country  \n",
       "0  12/1/2010 8:26       2.55     17850.0  United Kingdom  \n",
       "1  12/1/2010 8:26       3.39     17850.0  United Kingdom  \n",
       "2  12/1/2010 8:26       2.75     17850.0  United Kingdom  \n",
       "3  12/1/2010 8:26       3.39     17850.0  United Kingdom  \n",
       "4  12/1/2010 8:26       3.39     17850.0  United Kingdom  "
      ]
     },
     "execution_count": 12,
     "metadata": {},
     "output_type": "execute_result"
    }
   ],
   "source": [
    "arquivo.head()"
   ]
  },
  {
   "cell_type": "markdown",
   "id": "437c2f0d-0408-4de1-90dc-c3f767b4a1df",
   "metadata": {},
   "source": [
    "#### Matriz Cliente X Produto"
   ]
  },
  {
   "cell_type": "code",
   "execution_count": 13,
   "id": "613efa9b-4646-4069-a60e-4e0003ccd0ce",
   "metadata": {},
   "outputs": [],
   "source": [
    "matriz = arquivo.pivot_table(index='CustomerID', \n",
    "                             columns='Description', \n",
    "                             values='Quantity', \n",
    "                             aggfunc='sum', \n",
    "                             fill_value=0)"
   ]
  },
  {
   "cell_type": "markdown",
   "id": "104e9ea0-6bd2-49eb-b720-681cfe4d18ae",
   "metadata": {},
   "source": [
    "#### Calcular a similaridade"
   ]
  },
  {
   "cell_type": "code",
   "execution_count": 15,
   "id": "c3c78910-d636-4357-8908-1b19b316173d",
   "metadata": {},
   "outputs": [],
   "source": [
    "similaridade = cosine_similarity(matriz)\n",
    "similaridade_df = pd.DataFrame(similaridade, index=matriz.index, columns=matriz.index)"
   ]
  },
  {
   "cell_type": "markdown",
   "id": "f62171e4-fc81-4933-ac69-20366e161246",
   "metadata": {},
   "source": [
    "#### Função para recomendar produtos"
   ]
  },
  {
   "cell_type": "code",
   "execution_count": 37,
   "id": "ee40ea6c-08a5-432b-9510-87ae4bc85bd1",
   "metadata": {},
   "outputs": [],
   "source": [
    "def recomendarProdutos(idCliente, top_n=3):\n",
    "    if idCliente not in similaridade_df.index:\n",
    "        return f\"Cliente {idCliente} não encontrado.\"\n",
    "\n",
    "    similares = similaridade_df[idCliente].sort_values(ascending=False).iloc[1:6]\n",
    "\n",
    "    cliente_atual = matriz.loc[idCliente]\n",
    "    produtos_comprados = cliente_atual[cliente_atual > 0].index\n",
    "\n",
    "    recomendacoes = pd.Series(dtype=float)\n",
    "    for cliente_similar in similares.index:\n",
    "        produtos = matriz.loc[cliente_similar]\n",
    "        produtos = produtos[produtos > 0]\n",
    "        recomendacoes = recomendacoes.add(produtos, fill_value=0)\n",
    "\n",
    "    recomendacoes = recomendacoes.drop(produtos_comprados, errors='ignore')\n",
    "\n",
    "    return recomendacoes.sort_values(ascending=False).head(top_n)\n"
   ]
  },
  {
   "cell_type": "markdown",
   "id": "a6639e3b-d5f5-41f1-a968-930eed3d1518",
   "metadata": {},
   "source": [
    "#### testar Codigo"
   ]
  },
  {
   "cell_type": "code",
   "execution_count": 38,
   "id": "1f76e338-24ba-40a5-bedf-e903de4e1850",
   "metadata": {},
   "outputs": [
    {
     "name": "stdout",
     "output_type": "stream",
     "text": [
      "Description\n",
      "FOUR HOOK  WHITE LOVEBIRDS          25.0\n",
      "BLACK STITCHED WALL CLOCK           20.0\n",
      "LARGE STRIPES CHOCOLATE GIFT BAG    16.0\n",
      "dtype: float64\n"
     ]
    }
   ],
   "source": [
    "cliente = matriz.index[4]\n",
    "print(recomendarProdutos(cliente))"
   ]
  },
  {
   "cell_type": "code",
   "execution_count": 70,
   "id": "4c77a93d-26f9-4426-8b10-3ce7a33c63b2",
   "metadata": {},
   "outputs": [
    {
     "name": "stdout",
     "output_type": "stream",
     "text": [
      "Description\n",
      "AGED GLASS SILVER T-LIGHT HOLDER    96.0\n",
      "ICE CREAM PEN LIP GLOSS             96.0\n",
      "ANTIQUE SILVER T-LIGHT GLASS        78.0\n",
      "dtype: float64\n"
     ]
    }
   ],
   "source": [
    "cliente1 = matriz.index[112]\n",
    "print(recomendarProdutos(cliente1))"
   ]
  },
  {
   "cell_type": "code",
   "execution_count": 75,
   "id": "015d75ae-ff23-4d67-8eaf-f230fe4812d1",
   "metadata": {},
   "outputs": [
    {
     "name": "stdout",
     "output_type": "stream",
     "text": [
      "Description\n",
      "JUMBO BAG DOILEY PATTERNS      590.0\n",
      "JUMBO BAG SPACEBOY DESIGN      250.0\n",
      "JUMBO BAG DOLLY GIRL DESIGN    240.0\n",
      "dtype: float64\n"
     ]
    }
   ],
   "source": [
    "cliente2 = matriz.index[997]\n",
    "print(recomendarProdutos(cliente2))"
   ]
  },
  {
   "cell_type": "markdown",
   "id": "7342a521-e7b7-4164-8887-b72cfd882a7a",
   "metadata": {},
   "source": [
    "# Sistema de recomendação pelo método de filtragem por conteúdo"
   ]
  },
  {
   "cell_type": "markdown",
   "id": "a9a64baa-b9d0-41a8-8738-a5c1afbf7c3d",
   "metadata": {},
   "source": [
    "#### Remove produtos duplicados"
   ]
  },
  {
   "cell_type": "code",
   "execution_count": 30,
   "id": "137f59e9-ec44-4325-8940-b3bdde37e676",
   "metadata": {},
   "outputs": [],
   "source": [
    "produtos = arquivo[['StockCode', 'Description']].drop_duplicates().reset_index(drop=True)"
   ]
  },
  {
   "cell_type": "markdown",
   "id": "6ae457b9-bc33-423f-b27c-eef516fdcc61",
   "metadata": {},
   "source": [
    "#### Torna a descrição/nomeDoProduto em vetor"
   ]
  },
  {
   "cell_type": "code",
   "execution_count": 33,
   "id": "bdc77068-fa49-4635-ac7c-550477c53845",
   "metadata": {},
   "outputs": [],
   "source": [
    "vetor = TfidfVectorizer(stop_words='english')\n",
    "tfidf_matriz = vetor.fit_transform(produtos['Description'])"
   ]
  },
  {
   "cell_type": "markdown",
   "id": "59d2d59c-bc4a-4b14-ae31-eb61f23fc7f1",
   "metadata": {},
   "source": [
    "#### Calcula a similaridade"
   ]
  },
  {
   "cell_type": "code",
   "execution_count": 43,
   "id": "9e3e8686-aa91-4adb-b2fd-85a6fa4d0e81",
   "metadata": {},
   "outputs": [],
   "source": [
    "similaridade_produto = cosine_similarity(tfidf_matriz)"
   ]
  },
  {
   "cell_type": "markdown",
   "id": "121e2264-7322-4cd7-b96d-6c371ca689e2",
   "metadata": {},
   "source": [
    "#### Função de recomendação"
   ]
  },
  {
   "cell_type": "code",
   "execution_count": 47,
   "id": "62255ae6-a9f4-4db7-ae20-dee2f8bf376c",
   "metadata": {},
   "outputs": [],
   "source": [
    "def recomendarPorDescricao(nome_produto, top_n=5):\n",
    "    nome_produto = nome_produto.strip().upper()\n",
    "    \n",
    "    if nome_produto not in produtos['Description'].values:\n",
    "        return f\"Produto '{nome_produto}' não encontrado.\"\n",
    "    \n",
    "    idx = produtos[produtos['Description'] == nome_produto].index[0]\n",
    "    similares = list(enumerate(similaridade_produto[idx]))\n",
    "    similares = sorted(similares, key=lambda x: x[1], reverse=True)\n",
    "    similares = similares[1:top_n+1]\n",
    "\n",
    "    recomendacoes = [produtos.iloc[i[0]]['Description'] for i in similares]\n",
    "    return recomendacoes"
   ]
  },
  {
   "cell_type": "code",
   "execution_count": 48,
   "id": "fcaaa009-3b6c-4f66-b76c-af425f50b446",
   "metadata": {},
   "outputs": [
    {
     "data": {
      "text/html": [
       "<div>\n",
       "<style scoped>\n",
       "    .dataframe tbody tr th:only-of-type {\n",
       "        vertical-align: middle;\n",
       "    }\n",
       "\n",
       "    .dataframe tbody tr th {\n",
       "        vertical-align: top;\n",
       "    }\n",
       "\n",
       "    .dataframe thead th {\n",
       "        text-align: right;\n",
       "    }\n",
       "</style>\n",
       "<table border=\"1\" class=\"dataframe\">\n",
       "  <thead>\n",
       "    <tr style=\"text-align: right;\">\n",
       "      <th></th>\n",
       "      <th>InvoiceNo</th>\n",
       "      <th>StockCode</th>\n",
       "      <th>Description</th>\n",
       "      <th>Quantity</th>\n",
       "      <th>InvoiceDate</th>\n",
       "      <th>UnitPrice</th>\n",
       "      <th>CustomerID</th>\n",
       "      <th>Country</th>\n",
       "    </tr>\n",
       "  </thead>\n",
       "  <tbody>\n",
       "    <tr>\n",
       "      <th>0</th>\n",
       "      <td>536365</td>\n",
       "      <td>85123A</td>\n",
       "      <td>WHITE HANGING HEART T-LIGHT HOLDER</td>\n",
       "      <td>6</td>\n",
       "      <td>12/1/2010 8:26</td>\n",
       "      <td>2.55</td>\n",
       "      <td>17850.0</td>\n",
       "      <td>United Kingdom</td>\n",
       "    </tr>\n",
       "    <tr>\n",
       "      <th>1</th>\n",
       "      <td>536365</td>\n",
       "      <td>71053</td>\n",
       "      <td>WHITE METAL LANTERN</td>\n",
       "      <td>6</td>\n",
       "      <td>12/1/2010 8:26</td>\n",
       "      <td>3.39</td>\n",
       "      <td>17850.0</td>\n",
       "      <td>United Kingdom</td>\n",
       "    </tr>\n",
       "    <tr>\n",
       "      <th>2</th>\n",
       "      <td>536365</td>\n",
       "      <td>84406B</td>\n",
       "      <td>CREAM CUPID HEARTS COAT HANGER</td>\n",
       "      <td>8</td>\n",
       "      <td>12/1/2010 8:26</td>\n",
       "      <td>2.75</td>\n",
       "      <td>17850.0</td>\n",
       "      <td>United Kingdom</td>\n",
       "    </tr>\n",
       "    <tr>\n",
       "      <th>3</th>\n",
       "      <td>536365</td>\n",
       "      <td>84029G</td>\n",
       "      <td>KNITTED UNION FLAG HOT WATER BOTTLE</td>\n",
       "      <td>6</td>\n",
       "      <td>12/1/2010 8:26</td>\n",
       "      <td>3.39</td>\n",
       "      <td>17850.0</td>\n",
       "      <td>United Kingdom</td>\n",
       "    </tr>\n",
       "    <tr>\n",
       "      <th>4</th>\n",
       "      <td>536365</td>\n",
       "      <td>84029E</td>\n",
       "      <td>RED WOOLLY HOTTIE WHITE HEART.</td>\n",
       "      <td>6</td>\n",
       "      <td>12/1/2010 8:26</td>\n",
       "      <td>3.39</td>\n",
       "      <td>17850.0</td>\n",
       "      <td>United Kingdom</td>\n",
       "    </tr>\n",
       "  </tbody>\n",
       "</table>\n",
       "</div>"
      ],
      "text/plain": [
       "  InvoiceNo StockCode                          Description  Quantity  \\\n",
       "0    536365    85123A   WHITE HANGING HEART T-LIGHT HOLDER         6   \n",
       "1    536365     71053                  WHITE METAL LANTERN         6   \n",
       "2    536365    84406B       CREAM CUPID HEARTS COAT HANGER         8   \n",
       "3    536365    84029G  KNITTED UNION FLAG HOT WATER BOTTLE         6   \n",
       "4    536365    84029E       RED WOOLLY HOTTIE WHITE HEART.         6   \n",
       "\n",
       "      InvoiceDate  UnitPrice  CustomerID         Country  \n",
       "0  12/1/2010 8:26       2.55     17850.0  United Kingdom  \n",
       "1  12/1/2010 8:26       3.39     17850.0  United Kingdom  \n",
       "2  12/1/2010 8:26       2.75     17850.0  United Kingdom  \n",
       "3  12/1/2010 8:26       3.39     17850.0  United Kingdom  \n",
       "4  12/1/2010 8:26       3.39     17850.0  United Kingdom  "
      ]
     },
     "execution_count": 48,
     "metadata": {},
     "output_type": "execute_result"
    }
   ],
   "source": [
    "arquivo.head()"
   ]
  },
  {
   "cell_type": "markdown",
   "id": "adf08c9f-81f4-46a0-974c-92ed3ee1a21e",
   "metadata": {},
   "source": [
    "#### Exemplo"
   ]
  },
  {
   "cell_type": "code",
   "execution_count": 65,
   "id": "beb935b9-cf71-497c-bcbf-5897c1729c6d",
   "metadata": {},
   "outputs": [
    {
     "name": "stdout",
     "output_type": "stream",
     "text": [
      "VINTAGE UNION JACK APRON\n",
      "['VINTAGE UNION JACK BUNTING', 'VINTAGE UNION JACK DOORSTOP', 'VINTAGE UNION JACK CUSHION COVER', 'VINTAGE UNION JACK SHOPPING BAG', 'VINTAGE UNION JACK MEMOBOARD']\n"
     ]
    }
   ],
   "source": [
    "exemplo= arquivo.Description[1199]\n",
    "print(exemplo)\n",
    "print(recomendarPorDescricao(exemplo))"
   ]
  },
  {
   "cell_type": "code",
   "execution_count": 68,
   "id": "b94dbeec-f4f7-470c-a529-aa23c4c8640f",
   "metadata": {},
   "outputs": [
    {
     "name": "stdout",
     "output_type": "stream",
     "text": [
      "RED RETROSPOT OVEN GLOVE DOUBLE\n",
      "['RED RETROSPOT OVEN GLOVE', 'GINGHAM OVEN GLOVE RED HEART', 'TEA TIME OVEN GLOVE', 'ROSE DU SUD OVEN GLOVE', 'DOUBLE CERAMIC PARLOUR HOOK']\n"
     ]
    }
   ],
   "source": [
    "exemplo1= arquivo.Description[20112]\n",
    "print(exemplo1)\n",
    "print(recomendarPorDescricao(exemplo1))"
   ]
  },
  {
   "cell_type": "code",
   "execution_count": 69,
   "id": "a7e1676c-a357-4b1e-afb8-0b9736949014",
   "metadata": {},
   "outputs": [
    {
     "name": "stdout",
     "output_type": "stream",
     "text": [
      "CHRISTMAS TREE HEART DECORATION\n",
      "['CHRISTMAS TREE STAR DECORATION', 'CHRISTMAS TREE DECORATION WITH BELL', 'BIRD BOX CHRISTMAS TREE DECORATION', 'HEART WOODEN CHRISTMAS DECORATION', 'CHRISTMAS GINGHAM TREE']\n"
     ]
    }
   ],
   "source": [
    "exemplo2= arquivo.Description[8385]\n",
    "print(exemplo2)\n",
    "print(recomendarPorDescricao(exemplo2))"
   ]
  },
  {
   "cell_type": "code",
   "execution_count": null,
   "id": "53435c1d-1a04-4a4f-8dad-9f3e8afc955b",
   "metadata": {},
   "outputs": [],
   "source": []
  }
 ],
 "metadata": {
  "kernelspec": {
   "display_name": "Python [conda env:base] *",
   "language": "python",
   "name": "conda-base-py"
  },
  "language_info": {
   "codemirror_mode": {
    "name": "ipython",
    "version": 3
   },
   "file_extension": ".py",
   "mimetype": "text/x-python",
   "name": "python",
   "nbconvert_exporter": "python",
   "pygments_lexer": "ipython3",
   "version": "3.12.7"
  }
 },
 "nbformat": 4,
 "nbformat_minor": 5
}
